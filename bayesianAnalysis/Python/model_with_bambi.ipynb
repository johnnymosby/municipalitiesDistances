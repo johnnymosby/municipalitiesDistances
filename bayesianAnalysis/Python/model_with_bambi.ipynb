{
 "cells": [
  {
   "cell_type": "code",
   "execution_count": 6,
   "id": "91320449-0f35-4a9b-acb7-986ade1ee4d9",
   "metadata": {},
   "outputs": [],
   "source": [
    "import arviz as az\n",
    "import bambi as bmb\n",
    "import matplotlib.pyplot as plt\n",
    "import numpy as np\n",
    "import pandas as pd\n",
    "import pymc as pm\n",
    "\n",
    "data = pd.read_csv(\"microdata.csv\")\n",
    "\n",
    "data['c_birth_year']=pd.to_datetime(data['c_birth_date']).dt.year\n",
    "\n",
    "\n",
    "data.drop(columns=['c_birth_date', 'marr_date', 'gr_m_community'], inplace=True)"
   ]
  },
  {
   "cell_type": "code",
   "execution_count": 14,
   "id": "3a95183b-4e79-4de4-a076-4415098077c0",
   "metadata": {},
   "outputs": [],
   "source": [
    "data_model_a = data[['m_annual_salary_tm2', 'gr_m_family_status']][data['m_annual_salary_tm2']>0]\n",
    "\n",
    "data_model_a['gr_m_family_status']=np.array([status - 1 for status in data_model_a['gr_m_family_status']])"
   ]
  },
  {
   "cell_type": "code",
   "execution_count": 15,
   "id": "15c5729f-68f2-4e48-a19b-ac0000c98598",
   "metadata": {},
   "outputs": [
    {
     "ename": "IndexError",
     "evalue": "tuple index out of range",
     "output_type": "error",
     "traceback": [
      "\u001b[0;31m---------------------------------------------------------------------------\u001b[0m",
      "\u001b[0;31mIndexError\u001b[0m                                Traceback (most recent call last)",
      "Cell \u001b[0;32mIn[15], line 7\u001b[0m\n\u001b[1;32m      2\u001b[0m model \u001b[38;5;241m=\u001b[39m bmb\u001b[38;5;241m.\u001b[39mModel(\u001b[38;5;124m'\u001b[39m\u001b[38;5;124mgr_m_family_status ~ m_annual_salary_tm2\u001b[39m\u001b[38;5;124m'\u001b[39m,\n\u001b[1;32m      3\u001b[0m                   data_model_a,\n\u001b[1;32m      4\u001b[0m                   family\u001b[38;5;241m=\u001b[39m\u001b[38;5;124m\"\u001b[39m\u001b[38;5;124mcategorical\u001b[39m\u001b[38;5;124m\"\u001b[39m)\n\u001b[1;32m      6\u001b[0m \u001b[38;5;66;03m# Get model description\u001b[39;00m\n\u001b[0;32m----> 7\u001b[0m \u001b[38;5;28mprint\u001b[39m(model)\n\u001b[1;32m      9\u001b[0m \u001b[38;5;66;03m# Fit the model using 1000 on each chain\u001b[39;00m\n\u001b[1;32m     10\u001b[0m results \u001b[38;5;241m=\u001b[39m model\u001b[38;5;241m.\u001b[39mfit(draws\u001b[38;5;241m=\u001b[39m\u001b[38;5;241m1000\u001b[39m)\n",
      "File \u001b[0;32m/opt/anaconda3/lib/python3.11/site-packages/bambi/models.py:965\u001b[0m, in \u001b[0;36mModel.__str__\u001b[0;34m(self)\u001b[0m\n\u001b[1;32m    958\u001b[0m family_name \u001b[38;5;241m=\u001b[39m \u001b[38;5;28mself\u001b[39m\u001b[38;5;241m.\u001b[39mfamily\u001b[38;5;241m.\u001b[39mname\n\u001b[1;32m    960\u001b[0m links \u001b[38;5;241m=\u001b[39m [\n\u001b[1;32m    961\u001b[0m     \u001b[38;5;124mf\u001b[39m\u001b[38;5;124m\"\u001b[39m\u001b[38;5;132;01m{\u001b[39;00mkey\u001b[38;5;132;01m}\u001b[39;00m\u001b[38;5;124m = \u001b[39m\u001b[38;5;132;01m{\u001b[39;00mvalue\u001b[38;5;241m.\u001b[39mname\u001b[38;5;132;01m}\u001b[39;00m\u001b[38;5;124m\"\u001b[39m\n\u001b[1;32m    962\u001b[0m     \u001b[38;5;28;01mfor\u001b[39;00m key, value \u001b[38;5;129;01min\u001b[39;00m \u001b[38;5;28mself\u001b[39m\u001b[38;5;241m.\u001b[39mfamily\u001b[38;5;241m.\u001b[39mlink\u001b[38;5;241m.\u001b[39mitems()\n\u001b[1;32m    963\u001b[0m     \u001b[38;5;28;01mif\u001b[39;00m key \u001b[38;5;241m==\u001b[39m parent_name \u001b[38;5;129;01mor\u001b[39;00m key \u001b[38;5;129;01min\u001b[39;00m \u001b[38;5;28mself\u001b[39m\u001b[38;5;241m.\u001b[39mdistributional_components\n\u001b[1;32m    964\u001b[0m ]\n\u001b[0;32m--> 965\u001b[0m observations \u001b[38;5;241m=\u001b[39m \u001b[38;5;28mself\u001b[39m\u001b[38;5;241m.\u001b[39mresponse_component\u001b[38;5;241m.\u001b[39mresponse_term\u001b[38;5;241m.\u001b[39mdata\u001b[38;5;241m.\u001b[39mshape[\u001b[38;5;241m0\u001b[39m]\n\u001b[1;32m    967\u001b[0m header_dict \u001b[38;5;241m=\u001b[39m {\n\u001b[1;32m    968\u001b[0m     \u001b[38;5;124m\"\u001b[39m\u001b[38;5;124mFormula: \u001b[39m\u001b[38;5;124m\"\u001b[39m: formulas,\n\u001b[1;32m    969\u001b[0m     \u001b[38;5;124m\"\u001b[39m\u001b[38;5;124mFamily: \u001b[39m\u001b[38;5;124m\"\u001b[39m: family_name,\n\u001b[0;32m   (...)\u001b[0m\n\u001b[1;32m    972\u001b[0m     \u001b[38;5;124m\"\u001b[39m\u001b[38;5;124mPriors: \u001b[39m\u001b[38;5;124m\"\u001b[39m: \u001b[38;5;124m\"\u001b[39m\u001b[38;5;124m\"\u001b[39m,\n\u001b[1;32m    973\u001b[0m }\n\u001b[1;32m    975\u001b[0m width \u001b[38;5;241m=\u001b[39m \u001b[38;5;241m16\u001b[39m\n",
      "File \u001b[0;32m/opt/anaconda3/lib/python3.11/site-packages/bambi/terms/response.py:26\u001b[0m, in \u001b[0;36mResponseTerm.data\u001b[0;34m(self)\u001b[0m\n\u001b[1;32m     23\u001b[0m \u001b[38;5;129m@property\u001b[39m\n\u001b[1;32m     24\u001b[0m \u001b[38;5;28;01mdef\u001b[39;00m \u001b[38;5;21mdata\u001b[39m(\u001b[38;5;28mself\u001b[39m):\n\u001b[1;32m     25\u001b[0m     \u001b[38;5;28;01mif\u001b[39;00m \u001b[38;5;28mhasattr\u001b[39m(\u001b[38;5;28mself\u001b[39m\u001b[38;5;241m.\u001b[39mfamily, \u001b[38;5;124m\"\u001b[39m\u001b[38;5;124mget_data\u001b[39m\u001b[38;5;124m\"\u001b[39m):\n\u001b[0;32m---> 26\u001b[0m         \u001b[38;5;28;01mreturn\u001b[39;00m \u001b[38;5;28mself\u001b[39m\u001b[38;5;241m.\u001b[39mfamily\u001b[38;5;241m.\u001b[39mget_data(\u001b[38;5;28mself\u001b[39m)\n\u001b[1;32m     27\u001b[0m     \u001b[38;5;28;01mreturn\u001b[39;00m \u001b[38;5;28mself\u001b[39m\u001b[38;5;241m.\u001b[39mterm\u001b[38;5;241m.\u001b[39mdata\n",
      "File \u001b[0;32m/opt/anaconda3/lib/python3.11/site-packages/bambi/families/univariate.py:139\u001b[0m, in \u001b[0;36mCategorical.get_data\u001b[0;34m(self, response)\u001b[0m\n\u001b[1;32m    138\u001b[0m \u001b[38;5;28;01mdef\u001b[39;00m \u001b[38;5;21mget_data\u001b[39m(\u001b[38;5;28mself\u001b[39m, response):\n\u001b[0;32m--> 139\u001b[0m     \u001b[38;5;28;01mreturn\u001b[39;00m np\u001b[38;5;241m.\u001b[39mnonzero(response\u001b[38;5;241m.\u001b[39mterm\u001b[38;5;241m.\u001b[39mdata)[\u001b[38;5;241m1\u001b[39m]\n",
      "\u001b[0;31mIndexError\u001b[0m: tuple index out of range"
     ]
    }
   ],
   "source": [
    "# Initialize the fixed effects only model\n",
    "model = bmb.Model('gr_m_family_status ~ m_annual_salary_tm2',\n",
    "                  data_model_a,\n",
    "                  family=\"categorical\")\n",
    "\n",
    "# Get model description\n",
    "print(model)\n",
    "\n",
    "# Fit the model using 1000 on each chain\n",
    "results = model.fit(draws=1000)\n",
    "\n",
    "# Key summary and diagnostic info on the model parameters\n",
    "az.summary(results)\n",
    "\n",
    "# Use ArviZ to plot the results\n",
    "az.plot_trace(results)"
   ]
  },
  {
   "cell_type": "code",
   "execution_count": null,
   "id": "2c69b153-9578-464c-bf09-a0d331e84b9f",
   "metadata": {},
   "outputs": [],
   "source": []
  }
 ],
 "metadata": {
  "kernelspec": {
   "display_name": "Python 3 (ipykernel)",
   "language": "python",
   "name": "python3"
  },
  "language_info": {
   "codemirror_mode": {
    "name": "ipython",
    "version": 3
   },
   "file_extension": ".py",
   "mimetype": "text/x-python",
   "name": "python",
   "nbconvert_exporter": "python",
   "pygments_lexer": "ipython3",
   "version": "3.11.7"
  }
 },
 "nbformat": 4,
 "nbformat_minor": 5
}
