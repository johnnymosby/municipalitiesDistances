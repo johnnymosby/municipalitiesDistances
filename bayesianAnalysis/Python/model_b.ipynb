{
 "cells": [
  {
   "cell_type": "code",
   "execution_count": 2,
   "metadata": {},
   "outputs": [],
   "source": [
    "import arviz as az\n",
    "import bambi as bmb\n",
    "import matplotlib.pyplot as plt\n",
    "import numpy as np\n",
    "import numpy.ma as ma\n",
    "import pandas as pd\n",
    "import pymc as pm\n",
    "import seaborn as sns"
   ]
  },
  {
   "cell_type": "code",
   "execution_count": 3,
   "metadata": {},
   "outputs": [],
   "source": [
    "data_original = pd.read_csv(\"microdata.csv\")\n",
    "\n",
    "data_a = data_original[['m_annual_salary_tm2', 'gr_m_family_status']].copy()#[data['m_annual_salary_tm2']>0]\n",
    "\n",
    "data_a.loc[data_a['gr_m_family_status']!=2, 'gr_m_family_status']=1\n",
    "data_a['gr_m_family_status'] = data_a['gr_m_family_status'] - 1\n",
    "\n",
    "#m_annual_salary_tm2 = data_a['m_annual_salary_tm2']\n",
    "gr_m_family_status = np.array(data_a['gr_m_family_status'])\n",
    "m_annual_salary_tm2 = np.ma.array(data_a['m_annual_salary_tm2'],\n",
    "                                mask = np.isnan(data_a['m_annual_salary_tm2']))"
   ]
  },
  {
   "cell_type": "code",
   "execution_count": 4,
   "metadata": {},
   "outputs": [],
   "source": [
    "with pm.Model() as model_b:\n",
    "    # Probability of zero inflation\n",
    "    psi = pm.Beta('psi', alpha=1, beta=1)\n",
    "    \n",
    "    # Parameters for the Normal distribution\n",
    "    mu = pm.Normal('mu', mu=m_annual_salary_tm2.mean(), sigma=m_annual_salary_tm2.std())\n",
    "    sigma = pm.HalfNormal('sigma', sigma=10)\n",
    "    \n",
    "    # Bernoulli distribution to model the occurrence of zeros\n",
    "    zi = pm.Bernoulli('zi', p=psi, shape=len(m_annual_salary_tm2))\n",
    "    \n",
    "    # The Normal part of the model for non-zero observations\n",
    "    salary_obs = pm.Normal('salary', mu=mu, sigma=sigma, observed=m_annual_salary_tm2[zi == 1])\n",
    "    \n",
    "    # Likelihood for the zero observations\n",
    "    pm.Potential('salary_zero', (1 - zi) * -np.log(psi))\n",
    "    \n",
    "    # Model for binary full data dependent variable of marital status\n",
    "    theta = pm.Deterministic('theta', pm.math.sigmoid(mu))  # Assuming dependency on mu\n",
    "    marital_status = pm.Bernoulli('marital_status', p=theta, observed=gr_m_family_status)"
   ]
  },
  {
   "cell_type": "code",
   "execution_count": null,
   "metadata": {},
   "outputs": [],
   "source": [
    "with model_b:\n",
    "    trace_b = pm.sample(10000, tune=1000, step=pm.Metropolis())\n",
    "    "
   ]
  },
  {
   "cell_type": "code",
   "execution_count": null,
   "metadata": {},
   "outputs": [],
   "source": [
    "with pm.Model() as model_a:\n",
    "    # Priors\n",
    "    beta = pm.Normal('beta', mu=-6000, sigma=10)\n",
    "    \n",
    "    # Model for B\n",
    "    b = pm.Normal('b', mu=0, sigma=10, shape=len(m_annual_salary_tm2), observed=m_annual_salary_tm2)\n",
    "    \n",
    "    # Logistic regression model for A\n",
    "    p = pm.math.invlogit(beta + b)\n",
    "\n",
    "    # Likelihood for observed A\n",
    "    a = pm.Bernoulli('a', p=p, observed=gr_m_family_status)"
   ]
  }
 ],
 "metadata": {
  "kernelspec": {
   "display_name": "base",
   "language": "python",
   "name": "python3"
  },
  "language_info": {
   "codemirror_mode": {
    "name": "ipython",
    "version": 3
   },
   "file_extension": ".py",
   "mimetype": "text/x-python",
   "name": "python",
   "nbconvert_exporter": "python",
   "pygments_lexer": "ipython3",
   "version": "3.11.7"
  }
 },
 "nbformat": 4,
 "nbformat_minor": 2
}
