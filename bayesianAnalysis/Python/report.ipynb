{
 "cells": [
  {
   "cell_type": "markdown",
   "id": "42f430cc-c30e-455a-a088-ea11f9930e8b",
   "metadata": {},
   "source": [
    "# Final Report"
   ]
  },
  {
   "cell_type": "markdown",
   "id": "8c72dc2d-2695-4d47-988d-b8b9d58fb3df",
   "metadata": {},
   "source": [
    "## Data\n",
    "\n",
    "In the project, I use data on couples in Austria which comes from several sources:\n",
    "* Birth registry (1990-2007)\n",
    "* Divorce / marriage register until 2007\n",
    "* Wage income data\n",
    "\n",
    "I completed the project as a part of my Master's Thesis on the effect of the trend of women getting higher levels of education and how it affects the couples' dynamics.\n",
    "\n",
    "In total, it is a 5% sample (~34k couples). A couple is operationalized as a female and a male who gave birth to the first child (in other words, they are 'linked' by their first child). Therefore, there is no information on a couple's duration since the couple's breakup is not defined. The couple does not imply marriage (in fact, as we will see, more than 40% of the couples are not married, at least, to the other parent).\n",
    "\n",
    "The **variables** provided to me are:\n",
    "* Sex\n",
    "* Age\n",
    "* Salaries 2 years before the birth\n",
    "* Education (compulsory school, apprenticeship, middle or high school, university or college)\n",
    "* Family status (single, married, married to other person, divorced)\n",
    "* Municipality as the child's birthplace (not used in the analysis, left for the future step\n",
    "* Year of the child's birth\n",
    "* Year of marriage if it happened\n",
    "\n",
    "In the analysis, I did not use the last three variables, which were left for the future iterations."
   ]
  },
  {
   "cell_type": "markdown",
   "id": "9c4cfee9-2a93-4698-8b7d-16a2b6ae3ef0",
   "metadata": {},
   "source": [
    "### Packages"
   ]
  },
  {
   "cell_type": "code",
   "execution_count": 1,
   "id": "a534e1d9-f78e-4a87-8b77-d37d284485a0",
   "metadata": {},
   "outputs": [],
   "source": [
    "import arviz as az\n",
    "import bambi as bmb\n",
    "import matplotlib.pyplot as plt\n",
    "import numpy as np\n",
    "import numpy.ma as ma\n",
    "import pandas as pd\n",
    "import pymc as pm\n",
    "import seaborn as sns"
   ]
  },
  {
   "cell_type": "markdown",
   "id": "e4009a80-becb-4f16-ac57-66823d448b19",
   "metadata": {},
   "source": [
    "### Data Preparation"
   ]
  },
  {
   "cell_type": "code",
   "execution_count": 2,
   "id": "5d9072c9-0116-4e2e-b670-70a53b34d242",
   "metadata": {},
   "outputs": [],
   "source": [
    "data_original = pd.read_csv(\"microdata.csv\")\n",
    "data = data_original.copy()\n",
    "\n",
    "# Extracting year from date\n",
    "data['c_birth_year']=pd.to_datetime(data['c_birth_date']).dt.year\n",
    "\n",
    "# Dropping out variables not used in the analysis\n",
    "data.drop(columns=['Unnamed: 0', 'c_birth_date', 'marr_date', 'gr_m_community'], inplace=True)\n",
    "\n",
    "for col in ['gr_m_family_status', 'm_edu4', 'f_edu4', 'edu4_comp']:\n",
    "    data[col] = pd.Categorical(data[col])"
   ]
  },
  {
   "cell_type": "markdown",
   "id": "16946d7f-7111-4afa-91d2-e029c27d8f59",
   "metadata": {},
   "source": [
    "## Exploratory Data Analysis"
   ]
  },
  {
   "cell_type": "code",
   "execution_count": 3,
   "id": "96caf82f-242a-4b17-8a2d-4883d10292de",
   "metadata": {},
   "outputs": [
    {
     "data": {
      "text/html": [
       "<div>\n",
       "<style scoped>\n",
       "    .dataframe tbody tr th:only-of-type {\n",
       "        vertical-align: middle;\n",
       "    }\n",
       "\n",
       "    .dataframe tbody tr th {\n",
       "        vertical-align: top;\n",
       "    }\n",
       "\n",
       "    .dataframe thead th {\n",
       "        text-align: right;\n",
       "    }\n",
       "</style>\n",
       "<table border=\"1\" class=\"dataframe\">\n",
       "  <thead>\n",
       "    <tr style=\"text-align: right;\">\n",
       "      <th></th>\n",
       "      <th>m_age_at_birth</th>\n",
       "      <th>f_age_at_birth</th>\n",
       "      <th>m_annual_salary_tm2</th>\n",
       "      <th>f_annual_salary_tm2</th>\n",
       "      <th>c_birth_year</th>\n",
       "    </tr>\n",
       "  </thead>\n",
       "  <tbody>\n",
       "    <tr>\n",
       "      <th>count</th>\n",
       "      <td>32234.000000</td>\n",
       "      <td>30048.000000</td>\n",
       "      <td>32230.000000</td>\n",
       "      <td>30043.000000</td>\n",
       "      <td>32234.000000</td>\n",
       "    </tr>\n",
       "    <tr>\n",
       "      <th>mean</th>\n",
       "      <td>26.066110</td>\n",
       "      <td>29.232994</td>\n",
       "      <td>13025.175232</td>\n",
       "      <td>15986.812664</td>\n",
       "      <td>1998.275579</td>\n",
       "    </tr>\n",
       "    <tr>\n",
       "      <th>std</th>\n",
       "      <td>5.077912</td>\n",
       "      <td>6.141691</td>\n",
       "      <td>10397.020006</td>\n",
       "      <td>12935.825221</td>\n",
       "      <td>5.205613</td>\n",
       "    </tr>\n",
       "    <tr>\n",
       "      <th>min</th>\n",
       "      <td>14.000000</td>\n",
       "      <td>14.000000</td>\n",
       "      <td>0.000000</td>\n",
       "      <td>0.000000</td>\n",
       "      <td>1990.000000</td>\n",
       "    </tr>\n",
       "    <tr>\n",
       "      <th>25%</th>\n",
       "      <td>22.000000</td>\n",
       "      <td>25.000000</td>\n",
       "      <td>3929.285095</td>\n",
       "      <td>3766.359985</td>\n",
       "      <td>1994.000000</td>\n",
       "    </tr>\n",
       "    <tr>\n",
       "      <th>50%</th>\n",
       "      <td>26.000000</td>\n",
       "      <td>29.000000</td>\n",
       "      <td>12527.424805</td>\n",
       "      <td>15542.679688</td>\n",
       "      <td>1998.000000</td>\n",
       "    </tr>\n",
       "    <tr>\n",
       "      <th>75%</th>\n",
       "      <td>29.000000</td>\n",
       "      <td>33.000000</td>\n",
       "      <td>19739.487793</td>\n",
       "      <td>24615.714844</td>\n",
       "      <td>2003.000000</td>\n",
       "    </tr>\n",
       "    <tr>\n",
       "      <th>max</th>\n",
       "      <td>46.000000</td>\n",
       "      <td>69.000000</td>\n",
       "      <td>85272.406250</td>\n",
       "      <td>75627.320312</td>\n",
       "      <td>2007.000000</td>\n",
       "    </tr>\n",
       "  </tbody>\n",
       "</table>\n",
       "</div>"
      ],
      "text/plain": [
       "       m_age_at_birth  f_age_at_birth  m_annual_salary_tm2  \\\n",
       "count    32234.000000    30048.000000         32230.000000   \n",
       "mean        26.066110       29.232994         13025.175232   \n",
       "std          5.077912        6.141691         10397.020006   \n",
       "min         14.000000       14.000000             0.000000   \n",
       "25%         22.000000       25.000000          3929.285095   \n",
       "50%         26.000000       29.000000         12527.424805   \n",
       "75%         29.000000       33.000000         19739.487793   \n",
       "max         46.000000       69.000000         85272.406250   \n",
       "\n",
       "       f_annual_salary_tm2  c_birth_year  \n",
       "count         30043.000000  32234.000000  \n",
       "mean          15986.812664   1998.275579  \n",
       "std           12935.825221      5.205613  \n",
       "min               0.000000   1990.000000  \n",
       "25%            3766.359985   1994.000000  \n",
       "50%           15542.679688   1998.000000  \n",
       "75%           24615.714844   2003.000000  \n",
       "max           75627.320312   2007.000000  "
      ]
     },
     "execution_count": 3,
     "metadata": {},
     "output_type": "execute_result"
    }
   ],
   "source": [
    "data.describe()"
   ]
  },
  {
   "cell_type": "markdown",
   "id": "30edc06b-780f-4876-a8f0-459c127fbed7",
   "metadata": {},
   "source": [
    "### Counts of categorical variables"
   ]
  },
  {
   "cell_type": "code",
   "execution_count": 4,
   "id": "3615d01a-340e-4c7f-9da4-09a1fe75d8ae",
   "metadata": {},
   "outputs": [
    {
     "data": {
      "image/png": "[encoded data removed]",
      "text/plain": [
       "<Figure size 2000x500 with 4 Axes>"
      ]
     },
     "metadata": {},
     "output_type": "display_data"
    }
   ],
   "source": [
    "categorical_columns = set()\n",
    "\n",
    "for column in data:\n",
    "    if data[column].dtype=='category':\n",
    "        categorical_columns.add(column)\n",
    "\n",
    "fig, axs = plt.subplots(nrows=1, ncols=4, figsize=(20, 5))\n",
    "\n",
    "for i, column in enumerate(categorical_columns):\n",
    "    sns.countplot(x=column, data=data, ax=axs[i])\n",
    "    axs[i].set_title(f'Counts of {column}')\n",
    "\n",
    "plt.tight_layout()\n",
    "plt.show()"
   ]
  },
  {
   "cell_type": "markdown",
   "id": "f34707cf-489e-44c8-b8a7-319fdca9a755",
   "metadata": {},
   "source": [
    "### Pairwise distributions of continuous variables"
   ]
  },
  {
   "cell_type": "markdown",
   "id": "1022faf9-1f05-4f00-b152-f518be0d441d",
   "metadata": {},
   "source": [
    "g = sns.PairGrid(data, diag_sharey=False)\n",
    "g.map_upper(sns.kdeplot)\n",
    "g.map_lower(sns.scatterplot)\n",
    "g.map_diag(sns.histplot)"
   ]
  },
  {
   "cell_type": "markdown",
   "id": "5e991df3-1220-4635-8b58-ade012832553",
   "metadata": {},
   "source": [
    "## The analysis"
   ]
  },
  {
   "cell_type": "markdown",
   "id": "2fbc4e3c-703a-4505-82a4-6036b4ef2a8a",
   "metadata": {},
   "source": [
    "### Model A"
   ]
  },
  {
   "cell_type": "markdown",
   "id": "d959c890-1bf7-4c2c-9810-97e6ea8b6120",
   "metadata": {},
   "source": [
    "The model A specifies the relationship between a continuous predictor variable of males' salary and the binary variable of couples' marital status (married / not married).\n",
    "\n",
    "#### Likelihood\n",
    "$$\n",
    "Y_i \\sim Bernoulli(p_i)\n",
    "$$\n",
    "\n",
    "#### Link function:\n",
    "$$\n",
    "\\text{logit}(p_i) = \\beta_0 + \\beta_1 X_i\n",
    "$$\n",
    "\n",
    "#### Priors:\n",
    "$$\n",
    "\\beta_0, \\beta_1 \\sim \\text{Normal}(\\mu, \\sigma^2)\n",
    "$$"
   ]
  },
  {
   "cell_type": "markdown",
   "id": "5692b9dd-430e-4e64-b35a-5c691428aa0b",
   "metadata": {},
   "source": [
    "### Preparing Data\n",
    "Here, the NAs are omitted, and the family status is refactored to a binary variable."
   ]
  },
  {
   "cell_type": "code",
   "execution_count": 5,
   "id": "0126e79c-613e-46a8-8d80-a03776a393bb",
   "metadata": {},
   "outputs": [],
   "source": [
    "data_a = data_original[['m_annual_salary_tm2', 'gr_m_family_status']].copy()#[data['m_annual_salary_tm2']>0]\n",
    "\n",
    "data_a.loc[data_a['gr_m_family_status']!=2, 'gr_m_family_status']=1\n",
    "data_a['gr_m_family_status'] = data_a['gr_m_family_status'] - 1"
   ]
  },
  {
   "cell_type": "code",
   "execution_count": 7,
   "id": "3ccdc3e6-2d36-47ae-b078-4aa7adeb0c48",
   "metadata": {},
   "outputs": [],
   "source": [
    "#m_annual_salary_tm2 = data_a['m_annual_salary_tm2']\n",
    "gr_m_family_status = np.array(data_a['gr_m_family_status'])\n",
    "m_annual_salary_tm2 = np.ma.array(data_a['m_annual_salary_tm2'],\n",
    "                                mask = np.isnan(data_a['m_annual_salary_tm2']))"
   ]
  },
  {
   "cell_type": "code",
   "execution_count": 8,
   "id": "af98edcb-61f3-442c-8e18-cadf4fcfb4d4",
   "metadata": {},
   "outputs": [
    {
     "data": {
      "text/plain": [
       "True"
      ]
     },
     "execution_count": 8,
     "metadata": {},
     "output_type": "execute_result"
    }
   ],
   "source": [
    "np.ma.is_masked(m_annual_salary_tm2)"
   ]
  },
  {
   "cell_type": "markdown",
   "id": "e35b23f4-5f86-4644-8250-b06e84288b4f",
   "metadata": {},
   "source": [
    "# Step 1: Define the PyMC3 model\n",
    "with pm.Model() as model:\n",
    "    # Priors\n",
    "    intercept = pm.Normal(\"intercept\", mu=0.0, sigma=10)\n",
    "    m_annual_salary_tm2_coeff = pm.Normal(\"m_annual_salary_tm2_coeff\", mu=0.0, sigma=0.0003)\n",
    "\n",
    "    # Linear predictor\n",
    "    eta = intercept + m_annual_salary_tm2_coeff * m_annual_salary_tm2\n",
    "\n",
    "    # Link function\n",
    "    p = pm.math.invlogit(eta)\n",
    "\n",
    "    # Likelihood\n",
    "    gr_m_family_status_observed = pm.Bernoulli(\"gr_m_family_status\", p=p, observed=gr_m_family_status)"
   ]
  },
  {
   "cell_type": "code",
   "execution_count": 9,
   "id": "4a1466cd-d8ba-4e5a-8b0e-37ebb9dd2cd4",
   "metadata": {},
   "outputs": [
    {
     "name": "stderr",
     "output_type": "stream",
     "text": [
      "/opt/anaconda3/lib/python3.11/site-packages/pymc/model/core.py:1317: ImputationWarning: Data in b contains missing values and will be automatically imputed from the sampling distribution.\n",
      "  warnings.warn(impute_message, ImputationWarning)\n"
     ]
    }
   ],
   "source": [
    "with pm.Model() as model_a:\n",
    "    # Priors\n",
    "    beta = pm.Normal('beta', mu=-6000, sigma=10)\n",
    "    \n",
    "    # Model for B\n",
    "    b = pm.Normal('b', mu=0, sigma=10, shape=len(m_annual_salary_tm2), observed=m_annual_salary_tm2)\n",
    "    \n",
    "    # Logistic regression model for A\n",
    "    p = pm.math.invlogit(beta + b)\n",
    "\n",
    "    # Likelihood for observed A\n",
    "    a = pm.Bernoulli('a', p=p, observed=gr_m_family_status)"
   ]
  },
  {
   "cell_type": "code",
   "execution_count": 10,
   "id": "1132a2c7-836c-4c09-9e0d-04cef33fddca",
   "metadata": {},
   "outputs": [
    {
     "data": {
      "image/svg+xml": [
       "<?xml version=\"1.0\" encoding=\"UTF-8\" standalone=\"no\"?>\n",
       "<!DOCTYPE svg PUBLIC \"-//W3C//DTD SVG 1.1//EN\"\n",
       " \"http://www.w3.org/Graphics/SVG/1.1/DTD/svg11.dtd\">\n",
       "<!-- Generated by graphviz version 8.1.0 (20230707.0739)\n",
       " -->\n",
       "<!-- Pages: 1 -->\n",
       "<svg width=\"306pt\" height=\"385pt\"\n",
       " viewBox=\"0.00 0.00 306.01 384.95\" xmlns=\"http://www.w3.org/2000/svg\" xmlns:xlink=\"http://www.w3.org/1999/xlink\">\n",
       "<g id=\"graph0\" class=\"graph\" transform=\"scale(1 1) rotate(0) translate(4 380.95)\">\n",
       "<polygon fill=\"white\" stroke=\"none\" points=\"-4,4 -4,-380.95 302.01,-380.95 302.01,4 -4,4\"/>\n",
       "<g id=\"clust1\" class=\"cluster\">\n",
       "<title>cluster32230</title>\n",
       "<path fill=\"none\" stroke=\"black\" d=\"M22.01,-247.13C22.01,-247.13 124.01,-247.13 124.01,-247.13 130.01,-247.13 136.01,-253.13 136.01,-259.13 136.01,-259.13 136.01,-356.95 136.01,-356.95 136.01,-362.95 130.01,-368.95 124.01,-368.95 124.01,-368.95 22.01,-368.95 22.01,-368.95 16.01,-368.95 10.01,-362.95 10.01,-356.95 10.01,-356.95 10.01,-259.13 10.01,-259.13 10.01,-253.13 16.01,-247.13 22.01,-247.13\"/>\n",
       "<text text-anchor=\"middle\" x=\"111.14\" y=\"-254.33\" font-family=\"Times,serif\" font-size=\"14.00\">32230</text>\n",
       "</g>\n",
       "<g id=\"clust2\" class=\"cluster\">\n",
       "<title>cluster4</title>\n",
       "<path fill=\"none\" stroke=\"black\" d=\"M156.01,-247.13C156.01,-247.13 278.01,-247.13 278.01,-247.13 284.01,-247.13 290.01,-253.13 290.01,-259.13 290.01,-259.13 290.01,-356.95 290.01,-356.95 290.01,-362.95 284.01,-368.95 278.01,-368.95 278.01,-368.95 156.01,-368.95 156.01,-368.95 150.01,-368.95 144.01,-362.95 144.01,-356.95 144.01,-356.95 144.01,-259.13 144.01,-259.13 144.01,-253.13 150.01,-247.13 156.01,-247.13\"/>\n",
       "<text text-anchor=\"middle\" x=\"278.64\" y=\"-254.33\" font-family=\"Times,serif\" font-size=\"14.00\">4</text>\n",
       "</g>\n",
       "<g id=\"clust3\" class=\"cluster\">\n",
       "<title>cluster32234</title>\n",
       "<path fill=\"none\" stroke=\"black\" d=\"M102.01,-8C102.01,-8 188.01,-8 188.01,-8 194.01,-8 200.01,-14 200.01,-20 200.01,-20 200.01,-223.23 200.01,-223.23 200.01,-229.23 194.01,-235.23 188.01,-235.23 188.01,-235.23 102.01,-235.23 102.01,-235.23 96.01,-235.23 90.01,-229.23 90.01,-223.23 90.01,-223.23 90.01,-20 90.01,-20 90.01,-14 96.01,-8 102.01,-8\"/>\n",
       "<text text-anchor=\"middle\" x=\"175.14\" y=\"-15.2\" font-family=\"Times,serif\" font-size=\"14.00\">32234</text>\n",
       "</g>\n",
       "<!-- beta -->\n",
       "<g id=\"node1\" class=\"node\">\n",
       "<title>beta</title>\n",
       "<ellipse fill=\"none\" stroke=\"black\" cx=\"41.01\" cy=\"-198.48\" rx=\"41.01\" ry=\"40.66\"/>\n",
       "<text text-anchor=\"middle\" x=\"41.01\" y=\"-209.93\" font-family=\"Times,serif\" font-size=\"14.00\">beta</text>\n",
       "<text text-anchor=\"middle\" x=\"41.01\" y=\"-193.43\" font-family=\"Times,serif\" font-size=\"14.00\">~</text>\n",
       "<text text-anchor=\"middle\" x=\"41.01\" y=\"-176.93\" font-family=\"Times,serif\" font-size=\"14.00\">Normal</text>\n",
       "</g>\n",
       "<!-- a -->\n",
       "<g id=\"node5\" class=\"node\">\n",
       "<title>a</title>\n",
       "<ellipse fill=\"lightgrey\" stroke=\"black\" cx=\"145.01\" cy=\"-81.16\" rx=\"47.38\" ry=\"40.66\"/>\n",
       "<text text-anchor=\"middle\" x=\"145.01\" y=\"-92.61\" font-family=\"Times,serif\" font-size=\"14.00\">a</text>\n",
       "<text text-anchor=\"middle\" x=\"145.01\" y=\"-76.11\" font-family=\"Times,serif\" font-size=\"14.00\">~</text>\n",
       "<text text-anchor=\"middle\" x=\"145.01\" y=\"-59.61\" font-family=\"Times,serif\" font-size=\"14.00\">Bernoulli</text>\n",
       "</g>\n",
       "<!-- beta&#45;&gt;a -->\n",
       "<g id=\"edge4\" class=\"edge\">\n",
       "<title>beta&#45;&gt;a</title>\n",
       "<path fill=\"none\" stroke=\"black\" d=\"M68.07,-167.48C80.56,-153.63 95.57,-136.98 109,-122.09\"/>\n",
       "<polygon fill=\"black\" stroke=\"black\" points=\"111.18,-124.79 115.27,-115.02 105.98,-120.11 111.18,-124.79\"/>\n",
       "</g>\n",
       "<!-- b_observed -->\n",
       "<g id=\"node2\" class=\"node\">\n",
       "<title>b_observed</title>\n",
       "<ellipse fill=\"lightgrey\" stroke=\"black\" cx=\"73.01\" cy=\"-320.29\" rx=\"55.33\" ry=\"40.66\"/>\n",
       "<text text-anchor=\"middle\" x=\"73.01\" y=\"-331.74\" font-family=\"Times,serif\" font-size=\"14.00\">b_observed</text>\n",
       "<text text-anchor=\"middle\" x=\"73.01\" y=\"-315.24\" font-family=\"Times,serif\" font-size=\"14.00\">~</text>\n",
       "<text text-anchor=\"middle\" x=\"73.01\" y=\"-298.74\" font-family=\"Times,serif\" font-size=\"14.00\">Normal</text>\n",
       "</g>\n",
       "<!-- b -->\n",
       "<g id=\"node4\" class=\"node\">\n",
       "<title>b</title>\n",
       "<polygon fill=\"none\" stroke=\"black\" points=\"190.14,-227.23 99.89,-227.23 99.89,-169.73 190.14,-169.73 190.14,-227.23\"/>\n",
       "<text text-anchor=\"middle\" x=\"145.01\" y=\"-209.93\" font-family=\"Times,serif\" font-size=\"14.00\">b</text>\n",
       "<text text-anchor=\"middle\" x=\"145.01\" y=\"-193.43\" font-family=\"Times,serif\" font-size=\"14.00\">~</text>\n",
       "<text text-anchor=\"middle\" x=\"145.01\" y=\"-176.93\" font-family=\"Times,serif\" font-size=\"14.00\">Deterministic</text>\n",
       "</g>\n",
       "<!-- b_observed&#45;&gt;b -->\n",
       "<g id=\"edge1\" class=\"edge\">\n",
       "<title>b_observed&#45;&gt;b</title>\n",
       "<path fill=\"none\" stroke=\"black\" d=\"M95.01,-282.69C103.76,-268.13 113.82,-251.38 122.61,-236.75\"/>\n",
       "<polygon fill=\"black\" stroke=\"black\" points=\"126.03,-238.86 128.18,-228.49 120.03,-235.26 126.03,-238.86\"/>\n",
       "</g>\n",
       "<!-- b_unobserved -->\n",
       "<g id=\"node3\" class=\"node\">\n",
       "<title>b_unobserved</title>\n",
       "<ellipse fill=\"none\" stroke=\"black\" cx=\"217.01\" cy=\"-320.29\" rx=\"64.88\" ry=\"40.66\"/>\n",
       "<text text-anchor=\"middle\" x=\"217.01\" y=\"-331.74\" font-family=\"Times,serif\" font-size=\"14.00\">b_unobserved</text>\n",
       "<text text-anchor=\"middle\" x=\"217.01\" y=\"-315.24\" font-family=\"Times,serif\" font-size=\"14.00\">~</text>\n",
       "<text text-anchor=\"middle\" x=\"217.01\" y=\"-298.74\" font-family=\"Times,serif\" font-size=\"14.00\">Normal</text>\n",
       "</g>\n",
       "<!-- b_unobserved&#45;&gt;b -->\n",
       "<g id=\"edge2\" class=\"edge\">\n",
       "<title>b_unobserved&#45;&gt;b</title>\n",
       "<path fill=\"none\" stroke=\"black\" d=\"M194.43,-281.71C185.77,-267.3 175.9,-250.87 167.27,-236.51\"/>\n",
       "<polygon fill=\"black\" stroke=\"black\" points=\"169.95,-235.19 161.8,-228.42 163.95,-238.79 169.95,-235.19\"/>\n",
       "</g>\n",
       "<!-- b&#45;&gt;a -->\n",
       "<g id=\"edge3\" class=\"edge\">\n",
       "<title>b&#45;&gt;a</title>\n",
       "<path fill=\"none\" stroke=\"black\" d=\"M145.01,-169.27C145.01,-158.33 145.01,-145.47 145.01,-133.03\"/>\n",
       "<polygon fill=\"black\" stroke=\"black\" points=\"148.51,-133.27 145.01,-123.27 141.51,-133.27 148.51,-133.27\"/>\n",
       "</g>\n",
       "</g>\n",
       "</svg>\n"
      ],
      "text/plain": [
       "<graphviz.graphs.Digraph at 0x159a85890>"
      ]
     },
     "execution_count": 10,
     "metadata": {},
     "output_type": "execute_result"
    }
   ],
   "source": [
    "pm.model_to_graphviz(model_a)"
   ]
  },
  {
   "cell_type": "code",
   "execution_count": 11,
   "id": "67d46a5e-fdb9-4b07-957c-3127118c00dd",
   "metadata": {},
   "outputs": [
    {
     "name": "stderr",
     "output_type": "stream",
     "text": [
      "Multiprocess sampling (4 chains in 4 jobs)\n",
      "CompoundStep\n",
      ">Metropolis: [beta]\n",
      ">Metropolis: [b_unobserved]\n"
     ]
    },
    {
     "data": {
      "text/html": [
       "\n",
       "<style>\n",
       "    /* Turns off some styling */\n",
       "    progress {\n",
       "        /* gets rid of default border in Firefox and Opera. */\n",
       "        border: none;\n",
       "        /* Needs to be in here for Safari polyfill so background images work as expected. */\n",
       "        background-size: auto;\n",
       "    }\n",
       "    progress:not([value]), progress:not([value])::-webkit-progress-bar {\n",
       "        background: repeating-linear-gradient(45deg, #7e7e7e, #7e7e7e 10px, #5c5c5c 10px, #5c5c5c 20px);\n",
       "    }\n",
       "    .progress-bar-interrupted, .progress-bar-interrupted::-webkit-progress-bar {\n",
       "        background: #F44336;\n",
       "    }\n",
       "</style>\n"
      ],
      "text/plain": [
       "<IPython.core.display.HTML object>"
      ]
     },
     "metadata": {},
     "output_type": "display_data"
    },
    {
     "name": "stderr",
     "output_type": "stream",
     "text": [
      "/opt/anaconda3/lib/python3.11/site-packages/pymc/step_methods/metropolis.py:285: RuntimeWarning: overflow encountered in exp\n",
      "  \"accept\": np.mean(np.exp(self.accept_rate_iter)),\n"
     ]
    },
    {
     "data": {
      "text/html": [
       "\n",
       "    <div>\n",
       "      <progress value='44000' class='' max='44000' style='width:300px; height:20px; vertical-align: middle;'></progress>\n",
       "      100.00% [44000/44000 02:10&lt;00:00 Sampling 4 chains, 0 divergences]\n",
       "    </div>\n",
       "    "
      ],
      "text/plain": [
       "<IPython.core.display.HTML object>"
      ]
     },
     "metadata": {},
     "output_type": "display_data"
    },
    {
     "name": "stderr",
     "output_type": "stream",
     "text": [
      "/opt/anaconda3/lib/python3.11/site-packages/pymc/step_methods/metropolis.py:285: RuntimeWarning: overflow encountered in exp\n",
      "  \"accept\": np.mean(np.exp(self.accept_rate_iter)),\n",
      "/opt/anaconda3/lib/python3.11/site-packages/pymc/step_methods/metropolis.py:285: RuntimeWarning: overflow encountered in exp\n",
      "  \"accept\": np.mean(np.exp(self.accept_rate_iter)),\n",
      "/opt/anaconda3/lib/python3.11/site-packages/pymc/step_methods/metropolis.py:285: RuntimeWarning: overflow encountered in exp\n",
      "  \"accept\": np.mean(np.exp(self.accept_rate_iter)),\n",
      "Sampling 4 chains for 1_000 tune and 10_000 draw iterations (4_000 + 40_000 draws total) took 131 seconds.\n",
      "The rhat statistic is larger than 1.01 for some parameters. This indicates problems during sampling. See https://arxiv.org/abs/1903.08008 for details\n",
      "The effective sample size per chain is smaller than 100 for some parameters.  A higher number is needed for reliable rhat and ess computation. See https://arxiv.org/abs/1903.08008 for details\n"
     ]
    }
   ],
   "source": [
    "# Sampling\n",
    "with model_a:\n",
    "    trace_a = pm.sample(10000, tune=1000, step=pm.Metropolis())"
   ]
  },
  {
   "cell_type": "code",
   "execution_count": 39,
   "id": "eaf6c228-efd6-4b37-a3b3-049217390cc0",
   "metadata": {
    "editable": true,
    "slideshow": {
     "slide_type": ""
    },
    "tags": []
   },
   "outputs": [
    {
     "data": {
      "text/plain": [
       "array([[<Axes: title={'center': 'beta'}>,\n",
       "        <Axes: title={'center': 'beta'}>]], dtype=object)"
      ]
     },
     "execution_count": 39,
     "metadata": {},
     "output_type": "execute_result"
    },
    {
     "data": {
      "image/png": "[encoded data removed]",
      "text/plain": [
       "<Figure size 1200x200 with 2 Axes>"
      ]
     },
     "metadata": {},
     "output_type": "display_data"
    }
   ],
   "source": [
    "az.plot_trace(trace_a, var_names=['beta'])"
   ]
  }
 ],
 "metadata": {
  "kernelspec": {
   "display_name": "Python 3 (ipykernel)",
   "language": "python",
   "name": "python3"
  },
  "language_info": {
   "codemirror_mode": {
    "name": "ipython",
    "version": 3
   },
   "file_extension": ".py",
   "mimetype": "text/x-python",
   "name": "python",
   "nbconvert_exporter": "python",
   "pygments_lexer": "ipython3",
   "version": "3.11.7"
  }
 },
 "nbformat": 4,
 "nbformat_minor": 5
}
