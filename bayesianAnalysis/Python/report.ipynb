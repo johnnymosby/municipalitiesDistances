{
 "cells": [
  {
   "cell_type": "markdown",
   "id": "42f430cc-c30e-455a-a088-ea11f9930e8b",
   "metadata": {},
   "source": [
    "# Final Report"
   ]
  },
  {
   "cell_type": "markdown",
   "id": "9c4cfee9-2a93-4698-8b7d-16a2b6ae3ef0",
   "metadata": {},
   "source": [
    "### Packages and Data Preparation"
   ]
  },
  {
   "cell_type": "code",
   "execution_count": null,
   "id": "a534e1d9-f78e-4a87-8b77-d37d284485a0",
   "metadata": {},
   "outputs": [],
   "source": [
    "import arviz as az\n",
    "import bambi as bmb\n",
    "import matplotlib.pyplot as plt\n",
    "import numpy as np\n",
    "import pandas as pd\n",
    "import pymc as pm\n",
    "\n",
    "data = pd.read_csv(\"microdata.csv\")\n",
    "\n",
    "data['c_birth_year']=pd.to_datetime(data['c_birth_date']).dt.year\n",
    "\n",
    "\n",
    "data.drop(columns=['c_birth_date', 'marr_date', 'gr_m_community'], inplace=True)"
   ]
  },
  {
   "cell_type": "markdown",
   "id": "16946d7f-7111-4afa-91d2-e029c27d8f59",
   "metadata": {},
   "source": [
    "## Exploratory Data Analysis"
   ]
  },
  {
   "cell_type": "code",
   "execution_count": null,
   "id": "96caf82f-242a-4b17-8a2d-4883d10292de",
   "metadata": {},
   "outputs": [],
   "source": []
  }
 ],
 "metadata": {
  "kernelspec": {
   "display_name": "Python 3 (ipykernel)",
   "language": "python",
   "name": "python3"
  },
  "language_info": {
   "codemirror_mode": {
    "name": "ipython",
    "version": 3
   },
   "file_extension": ".py",
   "mimetype": "text/x-python",
   "name": "python",
   "nbconvert_exporter": "python",
   "pygments_lexer": "ipython3",
   "version": "3.11.7"
  }
 },
 "nbformat": 4,
 "nbformat_minor": 5
}
