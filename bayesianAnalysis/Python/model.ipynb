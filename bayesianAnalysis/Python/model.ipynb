{
 "cells": [
  {
   "cell_type": "code",
   "execution_count": 1,
   "id": "f948bcdd-579b-4840-9e36-135a8b8c52d6",
   "metadata": {},
   "outputs": [],
   "source": [
    "import pandas as pd\n",
    "import numpy as np\n",
    "import pymc as pm\n",
    "import arviz as az\n",
    "import matplotlib.pyplot as plt\n",
    "\n",
    "data = pd.read_csv(\"microdata.csv\")\n",
    "\n",
    "data['c_birth_year']=pd.to_datetime(data['c_birth_date']).dt.year\n",
    "\n",
    "\n",
    "data.drop(columns=['c_birth_date', 'marr_date', 'gr_m_community'], inplace=True)"
   ]
  },
  {
   "cell_type": "code",
   "execution_count": 2,
   "id": "aeaee7a3-4783-4b42-b651-b385b6b19d65",
   "metadata": {
    "scrolled": true
   },
   "outputs": [
    {
     "data": {
      "text/html": [
       "<div>\n",
       "<style scoped>\n",
       "    .dataframe tbody tr th:only-of-type {\n",
       "        vertical-align: middle;\n",
       "    }\n",
       "\n",
       "    .dataframe tbody tr th {\n",
       "        vertical-align: top;\n",
       "    }\n",
       "\n",
       "    .dataframe thead th {\n",
       "        text-align: right;\n",
       "    }\n",
       "</style>\n",
       "<table border=\"1\" class=\"dataframe\">\n",
       "  <thead>\n",
       "    <tr style=\"text-align: right;\">\n",
       "      <th></th>\n",
       "      <th>Unnamed: 0</th>\n",
       "      <th>m_age_at_birth</th>\n",
       "      <th>f_age_at_birth</th>\n",
       "      <th>m_annual_salary_tm2</th>\n",
       "      <th>f_annual_salary_tm2</th>\n",
       "      <th>gr_m_family_status</th>\n",
       "      <th>m_edu4</th>\n",
       "      <th>f_edu4</th>\n",
       "      <th>edu4_comp</th>\n",
       "      <th>c_birth_year</th>\n",
       "    </tr>\n",
       "  </thead>\n",
       "  <tbody>\n",
       "    <tr>\n",
       "      <th>count</th>\n",
       "      <td>32234.000000</td>\n",
       "      <td>32234.000000</td>\n",
       "      <td>30048.000000</td>\n",
       "      <td>32230.000000</td>\n",
       "      <td>30043.000000</td>\n",
       "      <td>32234.000000</td>\n",
       "      <td>32047.000000</td>\n",
       "      <td>29648.000000</td>\n",
       "      <td>29482.000000</td>\n",
       "      <td>32234.000000</td>\n",
       "    </tr>\n",
       "    <tr>\n",
       "      <th>mean</th>\n",
       "      <td>16117.500000</td>\n",
       "      <td>26.066110</td>\n",
       "      <td>29.232994</td>\n",
       "      <td>13025.175232</td>\n",
       "      <td>15986.812664</td>\n",
       "      <td>1.618415</td>\n",
       "      <td>2.481418</td>\n",
       "      <td>2.479897</td>\n",
       "      <td>0.635472</td>\n",
       "      <td>1998.275579</td>\n",
       "    </tr>\n",
       "    <tr>\n",
       "      <th>std</th>\n",
       "      <td>9305.298625</td>\n",
       "      <td>5.077912</td>\n",
       "      <td>6.141691</td>\n",
       "      <td>10397.020006</td>\n",
       "      <td>12935.825221</td>\n",
       "      <td>0.607161</td>\n",
       "      <td>0.881139</td>\n",
       "      <td>0.829394</td>\n",
       "      <td>0.807965</td>\n",
       "      <td>5.205613</td>\n",
       "    </tr>\n",
       "    <tr>\n",
       "      <th>min</th>\n",
       "      <td>1.000000</td>\n",
       "      <td>14.000000</td>\n",
       "      <td>14.000000</td>\n",
       "      <td>0.000000</td>\n",
       "      <td>0.000000</td>\n",
       "      <td>1.000000</td>\n",
       "      <td>1.000000</td>\n",
       "      <td>1.000000</td>\n",
       "      <td>0.000000</td>\n",
       "      <td>1990.000000</td>\n",
       "    </tr>\n",
       "    <tr>\n",
       "      <th>25%</th>\n",
       "      <td>8059.250000</td>\n",
       "      <td>22.000000</td>\n",
       "      <td>25.000000</td>\n",
       "      <td>3929.285095</td>\n",
       "      <td>3766.359985</td>\n",
       "      <td>1.000000</td>\n",
       "      <td>2.000000</td>\n",
       "      <td>2.000000</td>\n",
       "      <td>0.000000</td>\n",
       "      <td>1994.000000</td>\n",
       "    </tr>\n",
       "    <tr>\n",
       "      <th>50%</th>\n",
       "      <td>16117.500000</td>\n",
       "      <td>26.000000</td>\n",
       "      <td>29.000000</td>\n",
       "      <td>12527.424805</td>\n",
       "      <td>15542.679688</td>\n",
       "      <td>2.000000</td>\n",
       "      <td>2.000000</td>\n",
       "      <td>2.000000</td>\n",
       "      <td>0.000000</td>\n",
       "      <td>1998.000000</td>\n",
       "    </tr>\n",
       "    <tr>\n",
       "      <th>75%</th>\n",
       "      <td>24175.750000</td>\n",
       "      <td>29.000000</td>\n",
       "      <td>33.000000</td>\n",
       "      <td>19739.487793</td>\n",
       "      <td>24615.714844</td>\n",
       "      <td>2.000000</td>\n",
       "      <td>3.000000</td>\n",
       "      <td>3.000000</td>\n",
       "      <td>1.000000</td>\n",
       "      <td>2003.000000</td>\n",
       "    </tr>\n",
       "    <tr>\n",
       "      <th>max</th>\n",
       "      <td>32234.000000</td>\n",
       "      <td>46.000000</td>\n",
       "      <td>69.000000</td>\n",
       "      <td>85272.406250</td>\n",
       "      <td>75627.320312</td>\n",
       "      <td>4.000000</td>\n",
       "      <td>4.000000</td>\n",
       "      <td>4.000000</td>\n",
       "      <td>2.000000</td>\n",
       "      <td>2007.000000</td>\n",
       "    </tr>\n",
       "  </tbody>\n",
       "</table>\n",
       "</div>"
      ],
      "text/plain": [
       "         Unnamed: 0  m_age_at_birth  f_age_at_birth  m_annual_salary_tm2  \\\n",
       "count  32234.000000    32234.000000    30048.000000         32230.000000   \n",
       "mean   16117.500000       26.066110       29.232994         13025.175232   \n",
       "std     9305.298625        5.077912        6.141691         10397.020006   \n",
       "min        1.000000       14.000000       14.000000             0.000000   \n",
       "25%     8059.250000       22.000000       25.000000          3929.285095   \n",
       "50%    16117.500000       26.000000       29.000000         12527.424805   \n",
       "75%    24175.750000       29.000000       33.000000         19739.487793   \n",
       "max    32234.000000       46.000000       69.000000         85272.406250   \n",
       "\n",
       "       f_annual_salary_tm2  gr_m_family_status        m_edu4        f_edu4  \\\n",
       "count         30043.000000        32234.000000  32047.000000  29648.000000   \n",
       "mean          15986.812664            1.618415      2.481418      2.479897   \n",
       "std           12935.825221            0.607161      0.881139      0.829394   \n",
       "min               0.000000            1.000000      1.000000      1.000000   \n",
       "25%            3766.359985            1.000000      2.000000      2.000000   \n",
       "50%           15542.679688            2.000000      2.000000      2.000000   \n",
       "75%           24615.714844            2.000000      3.000000      3.000000   \n",
       "max           75627.320312            4.000000      4.000000      4.000000   \n",
       "\n",
       "          edu4_comp  c_birth_year  \n",
       "count  29482.000000  32234.000000  \n",
       "mean       0.635472   1998.275579  \n",
       "std        0.807965      5.205613  \n",
       "min        0.000000   1990.000000  \n",
       "25%        0.000000   1994.000000  \n",
       "50%        0.000000   1998.000000  \n",
       "75%        1.000000   2003.000000  \n",
       "max        2.000000   2007.000000  "
      ]
     },
     "execution_count": 2,
     "metadata": {},
     "output_type": "execute_result"
    }
   ],
   "source": [
    "data.describe()"
   ]
  },
  {
   "cell_type": "markdown",
   "id": "9ff53095-bcc2-4580-970c-a2c183732304",
   "metadata": {},
   "source": [
    "* 1 - Unmarried couple\n",
    "* 2 - Married couple\n",
    "* 3 - Single\n",
    "* 4 - Divorced"
   ]
  },
  {
   "cell_type": "code",
   "execution_count": 3,
   "id": "442bbfb7-437c-4c7b-85aa-e2bc64516caa",
   "metadata": {},
   "outputs": [
    {
     "data": {
      "text/plain": [
       "gr_m_family_status\n",
       "2    17776\n",
       "1    13732\n",
       "4      706\n",
       "3       20\n",
       "Name: count, dtype: int64"
      ]
     },
     "execution_count": 3,
     "metadata": {},
     "output_type": "execute_result"
    }
   ],
   "source": [
    "data['gr_m_family_status'].value_counts()"
   ]
  },
  {
   "cell_type": "markdown",
   "id": "2ab6b3ed-06aa-4abe-8ac3-b52f4dfd7c92",
   "metadata": {},
   "source": [
    "### Model A\n",
    "Only variables of Salary and Family Status. Salary == 0 is removed for the distribution to look more 'Normal'"
   ]
  },
  {
   "cell_type": "code",
   "execution_count": 66,
   "id": "932a2cc7-5ac4-4e40-b7e7-b6de725dc34f",
   "metadata": {},
   "outputs": [],
   "source": [
    "data_model_a = data[['m_annual_salary_tm2', 'gr_m_family_status']][data['m_annual_salary_tm2']>0]\n",
    "\n",
    "data_model_a['gr_m_family_status'][data_model_a['gr_m_family_status']>2]=1"
   ]
  },
  {
   "cell_type": "code",
   "execution_count": 67,
   "id": "bad3a22c-ead5-4c7e-bc04-6b4ce1052a94",
   "metadata": {},
   "outputs": [
    {
     "data": {
      "text/html": [
       "<div>\n",
       "<style scoped>\n",
       "    .dataframe tbody tr th:only-of-type {\n",
       "        vertical-align: middle;\n",
       "    }\n",
       "\n",
       "    .dataframe tbody tr th {\n",
       "        vertical-align: top;\n",
       "    }\n",
       "\n",
       "    .dataframe thead th {\n",
       "        text-align: right;\n",
       "    }\n",
       "</style>\n",
       "<table border=\"1\" class=\"dataframe\">\n",
       "  <thead>\n",
       "    <tr style=\"text-align: right;\">\n",
       "      <th></th>\n",
       "      <th>m_annual_salary_tm2</th>\n",
       "      <th>gr_m_family_status</th>\n",
       "    </tr>\n",
       "  </thead>\n",
       "  <tbody>\n",
       "    <tr>\n",
       "      <th>0</th>\n",
       "      <td>7862.390137</td>\n",
       "      <td>1</td>\n",
       "    </tr>\n",
       "    <tr>\n",
       "      <th>1</th>\n",
       "      <td>17438.910156</td>\n",
       "      <td>2</td>\n",
       "    </tr>\n",
       "    <tr>\n",
       "      <th>3</th>\n",
       "      <td>17938.720703</td>\n",
       "      <td>1</td>\n",
       "    </tr>\n",
       "    <tr>\n",
       "      <th>4</th>\n",
       "      <td>16819.619141</td>\n",
       "      <td>2</td>\n",
       "    </tr>\n",
       "    <tr>\n",
       "      <th>5</th>\n",
       "      <td>4532.509766</td>\n",
       "      <td>1</td>\n",
       "    </tr>\n",
       "  </tbody>\n",
       "</table>\n",
       "</div>"
      ],
      "text/plain": [
       "   m_annual_salary_tm2  gr_m_family_status\n",
       "0          7862.390137                   1\n",
       "1         17438.910156                   2\n",
       "3         17938.720703                   1\n",
       "4         16819.619141                   2\n",
       "5          4532.509766                   1"
      ]
     },
     "execution_count": 67,
     "metadata": {},
     "output_type": "execute_result"
    }
   ],
   "source": [
    "data_model_a.head()"
   ]
  },
  {
   "cell_type": "code",
   "execution_count": null,
   "id": "f7504a29-7934-44a1-88f7-3b2a8baa8e40",
   "metadata": {},
   "outputs": [],
   "source": [
    "# Encode family status as integers for modeling\n",
    "encoded_family_status = np.array([status - 1 for status in data_model_a['gr_m_family_status']])\n",
    "salary = data_model_a['m_annual_salary_tm2']\n",
    "\n",
    "# Define the PyMC model with explicit initial values\n",
    "with pm.Model() as model:\n",
    "    n_categories = 4\n",
    "    intercepts = pm.HalfNormal('intercepts', sigma=15000, shape=n_categories, initval = [15000.0 for i in range(n_categories)])  # Set initial values to zeros\n",
    "    betas = pm.Normal('betas', mu=0, sigma=10, shape=n_categories, initval=np.zeros(n_categories))  # Set initial value to 0\n",
    "\n",
    "    eta = [intercepts[i] + betas[i] * salary[encoded_family_status == i].mean() for i in range(n_categories)]\n",
    "    _, counts = np.unique(encoded_family_status, return_counts=True)\n",
    "    p = pm.Deterministic('p', pm.math.softmax(eta))\n",
    "    print(\"Softmax of eta:\", pm.math.softmax(eta).eval())\n",
    "    print(eta)\n",
    "\n",
    "    family_status = pm.Bernoulli('family_status',\n",
    "                                   n=counts.sum(),\n",
    "                                   p=p,\n",
    "                                   observed=counts,\n",
    "                                  initval = [0.25,0.25,0.25,0.25])\n",
    "\n",
    "    trace = pm.sample(1000)"
   ]
  },
  {
   "cell_type": "code",
   "execution_count": 37,
   "id": "52671a1b-2e9e-43f8-9437-4343fce386ee",
   "metadata": {},
   "outputs": [
    {
     "name": "stdout",
     "output_type": "stream",
     "text": [
      "point={'intercepts_log__': array([9.61580548, 9.61580548, 9.61580548, 9.61580548]), 'betas': array([0., 0., 0., 0.])}\n",
      "\n",
      "No problems found\n"
     ]
    }
   ],
   "source": [
    "model.debug()"
   ]
  },
  {
   "cell_type": "code",
   "execution_count": null,
   "id": "884ae4be-10cc-43ad-9211-9a85bbbbdf73",
   "metadata": {},
   "outputs": [],
   "source": [
    "wow = np.array([6, 2,2])\n",
    "print(wow.shape)"
   ]
  },
  {
   "cell_type": "code",
   "execution_count": null,
   "id": "0b5ccacc-a892-47ea-929e-6077a6254236",
   "metadata": {},
   "outputs": [],
   "source": [
    "Y_multiclass = np.random.choice([0, 1, 2], size=100, p=[0.2, 0.5, 0.3])  # Example multiclass outcome\n",
    "X = np.random.normal(size=100)  # Continuous variable\n",
    "Y = (X > 0).astype(int) \n",
    "with pm.Model() as softmax_model:\n",
    "    # Priors\n",
    "    intercepts = pm.HalfNormal('Intercepts', sigma=10, shape=3)  # One intercept per category\n",
    "    betas = pm.Normal('Betas', mu=5, sigma=10, shape=3)  # One beta per category\n",
    "    \n",
    "    # Softmax regression\n",
    "    logits = pm.math.stack([intercepts[i] + betas[i] * X for i in range(3)], axis=1)\n",
    "    likelihood = pm.Categorical('Y', p=pm.math.softmax(logits), observed=Y_multiclass)\n",
    "    \n",
    "    # Sample from the posterior\n",
    "    trace = pm.sample(1000, return_inferencedata=True)\n"
   ]
  },
  {
   "cell_type": "code",
   "execution_count": null,
   "id": "6f8905a3-dc95-46fb-a446-52e049134552",
   "metadata": {},
   "outputs": [],
   "source": [
    "pm.model_to_graphviz(model)"
   ]
  },
  {
   "cell_type": "code",
   "execution_count": null,
   "id": "237e7457-120a-47dc-bbef-3faee5690fcc",
   "metadata": {},
   "outputs": [],
   "source": [
    "# Visualize trace plots\n",
    "az.plot_trace(trace)\n",
    "\n",
    "# Compute Gelman-Rubin statistic\n",
    "pm.summary(trace, var_names=['alpha', 'beta'])\n",
    "\n",
    "# Calculate effective sample size\n",
    "pm.summary(trace, var_names=['alpha', 'beta'])\n",
    "\n",
    "# Plot autocorrelation\n",
    "az.plot_autocorr(trace, var_names=['alpha', 'beta'])\n",
    "\n",
    "# Check for divergences\n",
    "pm.summary(trace, var_names=['alpha', 'beta'])\n",
    "az.plot_pair(trace, var_names=['alpha', 'beta'])\n"
   ]
  },
  {
   "cell_type": "code",
   "execution_count": null,
   "id": "13e1d0c2-7865-4621-8309-1be6e4a5f2f2",
   "metadata": {},
   "outputs": [],
   "source": []
  }
 ],
 "metadata": {
  "kernelspec": {
   "display_name": "Python 3 (ipykernel)",
   "language": "python",
   "name": "python3"
  },
  "language_info": {
   "codemirror_mode": {
    "name": "ipython",
    "version": 3
   },
   "file_extension": ".py",
   "mimetype": "text/x-python",
   "name": "python",
   "nbconvert_exporter": "python",
   "pygments_lexer": "ipython3",
   "version": "3.11.7"
  }
 },
 "nbformat": 4,
 "nbformat_minor": 5
}
